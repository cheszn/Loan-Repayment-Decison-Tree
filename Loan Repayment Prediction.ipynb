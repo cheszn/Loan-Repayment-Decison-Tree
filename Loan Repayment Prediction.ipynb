{
 "cells": [
  {
   "cell_type": "markdown",
   "id": "c7bb1a5d-149f-47b1-88c7-831de81b47d9",
   "metadata": {},
   "source": [
    "Project :- Loan Repayment Prediction\n",
    "\n",
    "I need to find out if my customers are going to return the loan they took from my bank or not.\n",
    "\n",
    "Problem Statement :- To predict if A customer will repay loan amount or not using decision tree algorithm in python."
   ]
  },
  {
   "cell_type": "code",
   "execution_count": 1,
   "id": "bb9c703c-8e43-4208-afde-8ccd09fe9f9a",
   "metadata": {
    "tags": []
   },
   "outputs": [],
   "source": [
    "# Import the necessary packages\n",
    "import numpy as np\n",
    "import pandas as pd\n",
    "from sklearn.model_selection import train_test_split\n",
    "from sklearn.tree import DecisionTreeClassifier\n",
    "from sklearn.metrics import accuracy_score\n",
    "from sklearn import tree"
   ]
  },
  {
   "cell_type": "code",
   "execution_count": 2,
   "id": "f4e1f1f6-6192-449d-9b84-121865345ac6",
   "metadata": {
    "tags": []
   },
   "outputs": [
    {
     "data": {
      "text/html": [
       "<div>\n",
       "<style scoped>\n",
       "    .dataframe tbody tr th:only-of-type {\n",
       "        vertical-align: middle;\n",
       "    }\n",
       "\n",
       "    .dataframe tbody tr th {\n",
       "        vertical-align: top;\n",
       "    }\n",
       "\n",
       "    .dataframe thead th {\n",
       "        text-align: right;\n",
       "    }\n",
       "</style>\n",
       "<table border=\"1\" class=\"dataframe\">\n",
       "  <thead>\n",
       "    <tr style=\"text-align: right;\">\n",
       "      <th></th>\n",
       "      <th>Initial Payment</th>\n",
       "      <th>Last Payment</th>\n",
       "      <th>Credit Score</th>\n",
       "      <th>House Number</th>\n",
       "      <th>sum</th>\n",
       "      <th>Result</th>\n",
       "    </tr>\n",
       "  </thead>\n",
       "  <tbody>\n",
       "    <tr>\n",
       "      <th>0</th>\n",
       "      <td>201</td>\n",
       "      <td>10018</td>\n",
       "      <td>250</td>\n",
       "      <td>3046</td>\n",
       "      <td>13515</td>\n",
       "      <td>yes</td>\n",
       "    </tr>\n",
       "    <tr>\n",
       "      <th>1</th>\n",
       "      <td>205</td>\n",
       "      <td>10016</td>\n",
       "      <td>395</td>\n",
       "      <td>3044</td>\n",
       "      <td>13660</td>\n",
       "      <td>yes</td>\n",
       "    </tr>\n",
       "    <tr>\n",
       "      <th>2</th>\n",
       "      <td>257</td>\n",
       "      <td>10129</td>\n",
       "      <td>109</td>\n",
       "      <td>3251</td>\n",
       "      <td>13746</td>\n",
       "      <td>yes</td>\n",
       "    </tr>\n",
       "    <tr>\n",
       "      <th>3</th>\n",
       "      <td>246</td>\n",
       "      <td>10064</td>\n",
       "      <td>324</td>\n",
       "      <td>3137</td>\n",
       "      <td>13771</td>\n",
       "      <td>yes</td>\n",
       "    </tr>\n",
       "    <tr>\n",
       "      <th>4</th>\n",
       "      <td>117</td>\n",
       "      <td>10115</td>\n",
       "      <td>496</td>\n",
       "      <td>3094</td>\n",
       "      <td>13822</td>\n",
       "      <td>yes</td>\n",
       "    </tr>\n",
       "  </tbody>\n",
       "</table>\n",
       "</div>"
      ],
      "text/plain": [
       "   Initial Payment  Last Payment  Credit Score  House Number    sum Result\n",
       "0              201         10018           250          3046  13515    yes\n",
       "1              205         10016           395          3044  13660    yes\n",
       "2              257         10129           109          3251  13746    yes\n",
       "3              246         10064           324          3137  13771    yes\n",
       "4              117         10115           496          3094  13822    yes"
      ]
     },
     "execution_count": 2,
     "metadata": {},
     "output_type": "execute_result"
    }
   ],
   "source": [
    "#dataset from simplilearn\n",
    "df = pd.read_csv('Loan Repayment.csv')\n",
    "df.head()"
   ]
  },
  {
   "cell_type": "code",
   "execution_count": 3,
   "id": "32eab3be-a62d-49bf-9a63-0b6d8492d0c7",
   "metadata": {
    "tags": []
   },
   "outputs": [
    {
     "data": {
      "application/vnd.jupyter.widget-view+json": {
       "model_id": "0d294f8570ed46f4a4af1287d53fa499",
       "version_major": 2,
       "version_minor": 0
      },
      "text/plain": [
       "Summarize dataset:   0%|          | 0/5 [00:00<?, ?it/s]"
      ]
     },
     "metadata": {},
     "output_type": "display_data"
    },
    {
     "data": {
      "application/vnd.jupyter.widget-view+json": {
       "model_id": "20975a14c28b441187d4921a83e948cd",
       "version_major": 2,
       "version_minor": 0
      },
      "text/plain": [
       "Generate report structure:   0%|          | 0/1 [00:00<?, ?it/s]"
      ]
     },
     "metadata": {},
     "output_type": "display_data"
    },
    {
     "data": {
      "application/vnd.jupyter.widget-view+json": {
       "model_id": "effd04ce591a473e988f9ddc659c2a8b",
       "version_major": 2,
       "version_minor": 0
      },
      "text/plain": [
       "Render HTML:   0%|          | 0/1 [00:00<?, ?it/s]"
      ]
     },
     "metadata": {},
     "output_type": "display_data"
    },
    {
     "data": {
      "application/vnd.jupyter.widget-view+json": {
       "model_id": "4ef8a5714cfa47ddb2735494ac89e20b",
       "version_major": 2,
       "version_minor": 0
      },
      "text/plain": [
       "Export report to file:   0%|          | 0/1 [00:00<?, ?it/s]"
      ]
     },
     "metadata": {},
     "output_type": "display_data"
    }
   ],
   "source": [
    "#ydata profiling to check the data quality\n",
    "\n",
    "from ydata_profiling import ProfileReport\n",
    "\n",
    "# Generate the report\n",
    "profile = ProfileReport(df,title=\"Loan-Repayment\")\n",
    "# Save the report to .html\n",
    "profile.to_file(\"Loan-Repayment.html\")"
   ]
  },
  {
   "cell_type": "code",
   "execution_count": 4,
   "id": "17cd0308-5dc6-4b0d-87ee-697937d20038",
   "metadata": {},
   "outputs": [
    {
     "name": "stdout",
     "output_type": "stream",
     "text": [
      "Dataset Length : 1000\n",
      "Dataset Shape :  (1000, 6)\n"
     ]
    }
   ],
   "source": [
    "print(\"Dataset Length :\", len(df))\n",
    "print('Dataset Shape : ', df.shape)"
   ]
  },
  {
   "cell_type": "code",
   "execution_count": 29,
   "id": "2fdfcf8d-a889-4619-99e7-5100aa466a84",
   "metadata": {
    "tags": []
   },
   "outputs": [],
   "source": [
    "# Separating the target variable\n",
    "X = df.drop('Result', axis = 'columns')\n",
    "Y = df.Result"
   ]
  },
  {
   "cell_type": "code",
   "execution_count": 31,
   "id": "5276bb40-9456-49c8-9a49-38f3edb07736",
   "metadata": {
    "tags": []
   },
   "outputs": [],
   "source": [
    "X = X.drop('sum', axis = 'columns')\n"
   ]
  },
  {
   "cell_type": "code",
   "execution_count": 32,
   "id": "55986580-3edb-4595-985b-167acb1afdd0",
   "metadata": {
    "tags": []
   },
   "outputs": [],
   "source": [
    "# Splitting the dataset into Train and Test\n",
    "X_train, X_test, Y_train, Y_test = train_test_split(X, Y, test_size = 0.2, random_state = 40)"
   ]
  },
  {
   "cell_type": "code",
   "execution_count": 33,
   "id": "b9e3ca6f-b819-4597-ab84-7f5435405ed7",
   "metadata": {
    "tags": []
   },
   "outputs": [
    {
     "data": {
      "text/html": [
       "<style>#sk-container-id-3 {color: black;background-color: white;}#sk-container-id-3 pre{padding: 0;}#sk-container-id-3 div.sk-toggleable {background-color: white;}#sk-container-id-3 label.sk-toggleable__label {cursor: pointer;display: block;width: 100%;margin-bottom: 0;padding: 0.3em;box-sizing: border-box;text-align: center;}#sk-container-id-3 label.sk-toggleable__label-arrow:before {content: \"▸\";float: left;margin-right: 0.25em;color: #696969;}#sk-container-id-3 label.sk-toggleable__label-arrow:hover:before {color: black;}#sk-container-id-3 div.sk-estimator:hover label.sk-toggleable__label-arrow:before {color: black;}#sk-container-id-3 div.sk-toggleable__content {max-height: 0;max-width: 0;overflow: hidden;text-align: left;background-color: #f0f8ff;}#sk-container-id-3 div.sk-toggleable__content pre {margin: 0.2em;color: black;border-radius: 0.25em;background-color: #f0f8ff;}#sk-container-id-3 input.sk-toggleable__control:checked~div.sk-toggleable__content {max-height: 200px;max-width: 100%;overflow: auto;}#sk-container-id-3 input.sk-toggleable__control:checked~label.sk-toggleable__label-arrow:before {content: \"▾\";}#sk-container-id-3 div.sk-estimator input.sk-toggleable__control:checked~label.sk-toggleable__label {background-color: #d4ebff;}#sk-container-id-3 div.sk-label input.sk-toggleable__control:checked~label.sk-toggleable__label {background-color: #d4ebff;}#sk-container-id-3 input.sk-hidden--visually {border: 0;clip: rect(1px 1px 1px 1px);clip: rect(1px, 1px, 1px, 1px);height: 1px;margin: -1px;overflow: hidden;padding: 0;position: absolute;width: 1px;}#sk-container-id-3 div.sk-estimator {font-family: monospace;background-color: #f0f8ff;border: 1px dotted black;border-radius: 0.25em;box-sizing: border-box;margin-bottom: 0.5em;}#sk-container-id-3 div.sk-estimator:hover {background-color: #d4ebff;}#sk-container-id-3 div.sk-parallel-item::after {content: \"\";width: 100%;border-bottom: 1px solid gray;flex-grow: 1;}#sk-container-id-3 div.sk-label:hover label.sk-toggleable__label {background-color: #d4ebff;}#sk-container-id-3 div.sk-serial::before {content: \"\";position: absolute;border-left: 1px solid gray;box-sizing: border-box;top: 0;bottom: 0;left: 50%;z-index: 0;}#sk-container-id-3 div.sk-serial {display: flex;flex-direction: column;align-items: center;background-color: white;padding-right: 0.2em;padding-left: 0.2em;position: relative;}#sk-container-id-3 div.sk-item {position: relative;z-index: 1;}#sk-container-id-3 div.sk-parallel {display: flex;align-items: stretch;justify-content: center;background-color: white;position: relative;}#sk-container-id-3 div.sk-item::before, #sk-container-id-3 div.sk-parallel-item::before {content: \"\";position: absolute;border-left: 1px solid gray;box-sizing: border-box;top: 0;bottom: 0;left: 50%;z-index: -1;}#sk-container-id-3 div.sk-parallel-item {display: flex;flex-direction: column;z-index: 1;position: relative;background-color: white;}#sk-container-id-3 div.sk-parallel-item:first-child::after {align-self: flex-end;width: 50%;}#sk-container-id-3 div.sk-parallel-item:last-child::after {align-self: flex-start;width: 50%;}#sk-container-id-3 div.sk-parallel-item:only-child::after {width: 0;}#sk-container-id-3 div.sk-dashed-wrapped {border: 1px dashed gray;margin: 0 0.4em 0.5em 0.4em;box-sizing: border-box;padding-bottom: 0.4em;background-color: white;}#sk-container-id-3 div.sk-label label {font-family: monospace;font-weight: bold;display: inline-block;line-height: 1.2em;}#sk-container-id-3 div.sk-label-container {text-align: center;}#sk-container-id-3 div.sk-container {/* jupyter's `normalize.less` sets `[hidden] { display: none; }` but bootstrap.min.css set `[hidden] { display: none !important; }` so we also need the `!important` here to be able to override the default hidden behavior on the sphinx rendered scikit-learn.org. See: https://github.com/scikit-learn/scikit-learn/issues/21755 */display: inline-block !important;position: relative;}#sk-container-id-3 div.sk-text-repr-fallback {display: none;}</style><div id=\"sk-container-id-3\" class=\"sk-top-container\"><div class=\"sk-text-repr-fallback\"><pre>DecisionTreeClassifier(criterion=&#x27;entropy&#x27;, max_depth=3, min_samples_leaf=5,\n",
       "                       random_state=40)</pre><b>In a Jupyter environment, please rerun this cell to show the HTML representation or trust the notebook. <br />On GitHub, the HTML representation is unable to render, please try loading this page with nbviewer.org.</b></div><div class=\"sk-container\" hidden><div class=\"sk-item\"><div class=\"sk-estimator sk-toggleable\"><input class=\"sk-toggleable__control sk-hidden--visually\" id=\"sk-estimator-id-3\" type=\"checkbox\" checked><label for=\"sk-estimator-id-3\" class=\"sk-toggleable__label sk-toggleable__label-arrow\">DecisionTreeClassifier</label><div class=\"sk-toggleable__content\"><pre>DecisionTreeClassifier(criterion=&#x27;entropy&#x27;, max_depth=3, min_samples_leaf=5,\n",
       "                       random_state=40)</pre></div></div></div></div></div>"
      ],
      "text/plain": [
       "DecisionTreeClassifier(criterion='entropy', max_depth=3, min_samples_leaf=5,\n",
       "                       random_state=40)"
      ]
     },
     "execution_count": 33,
     "metadata": {},
     "output_type": "execute_result"
    }
   ],
   "source": [
    "# Fuction to perform training with Entropy \n",
    "clf_entropy = DecisionTreeClassifier(criterion= \"entropy\", random_state = 40,max_depth = 3, min_samples_leaf = 5)\n",
    "clf_entropy.fit(X_train, Y_train)"
   ]
  },
  {
   "cell_type": "code",
   "execution_count": 34,
   "id": "589ca14c-af34-4583-89c7-512f1207d47c",
   "metadata": {
    "tags": []
   },
   "outputs": [
    {
     "data": {
      "text/html": [
       "<style>#sk-container-id-4 {color: black;background-color: white;}#sk-container-id-4 pre{padding: 0;}#sk-container-id-4 div.sk-toggleable {background-color: white;}#sk-container-id-4 label.sk-toggleable__label {cursor: pointer;display: block;width: 100%;margin-bottom: 0;padding: 0.3em;box-sizing: border-box;text-align: center;}#sk-container-id-4 label.sk-toggleable__label-arrow:before {content: \"▸\";float: left;margin-right: 0.25em;color: #696969;}#sk-container-id-4 label.sk-toggleable__label-arrow:hover:before {color: black;}#sk-container-id-4 div.sk-estimator:hover label.sk-toggleable__label-arrow:before {color: black;}#sk-container-id-4 div.sk-toggleable__content {max-height: 0;max-width: 0;overflow: hidden;text-align: left;background-color: #f0f8ff;}#sk-container-id-4 div.sk-toggleable__content pre {margin: 0.2em;color: black;border-radius: 0.25em;background-color: #f0f8ff;}#sk-container-id-4 input.sk-toggleable__control:checked~div.sk-toggleable__content {max-height: 200px;max-width: 100%;overflow: auto;}#sk-container-id-4 input.sk-toggleable__control:checked~label.sk-toggleable__label-arrow:before {content: \"▾\";}#sk-container-id-4 div.sk-estimator input.sk-toggleable__control:checked~label.sk-toggleable__label {background-color: #d4ebff;}#sk-container-id-4 div.sk-label input.sk-toggleable__control:checked~label.sk-toggleable__label {background-color: #d4ebff;}#sk-container-id-4 input.sk-hidden--visually {border: 0;clip: rect(1px 1px 1px 1px);clip: rect(1px, 1px, 1px, 1px);height: 1px;margin: -1px;overflow: hidden;padding: 0;position: absolute;width: 1px;}#sk-container-id-4 div.sk-estimator {font-family: monospace;background-color: #f0f8ff;border: 1px dotted black;border-radius: 0.25em;box-sizing: border-box;margin-bottom: 0.5em;}#sk-container-id-4 div.sk-estimator:hover {background-color: #d4ebff;}#sk-container-id-4 div.sk-parallel-item::after {content: \"\";width: 100%;border-bottom: 1px solid gray;flex-grow: 1;}#sk-container-id-4 div.sk-label:hover label.sk-toggleable__label {background-color: #d4ebff;}#sk-container-id-4 div.sk-serial::before {content: \"\";position: absolute;border-left: 1px solid gray;box-sizing: border-box;top: 0;bottom: 0;left: 50%;z-index: 0;}#sk-container-id-4 div.sk-serial {display: flex;flex-direction: column;align-items: center;background-color: white;padding-right: 0.2em;padding-left: 0.2em;position: relative;}#sk-container-id-4 div.sk-item {position: relative;z-index: 1;}#sk-container-id-4 div.sk-parallel {display: flex;align-items: stretch;justify-content: center;background-color: white;position: relative;}#sk-container-id-4 div.sk-item::before, #sk-container-id-4 div.sk-parallel-item::before {content: \"\";position: absolute;border-left: 1px solid gray;box-sizing: border-box;top: 0;bottom: 0;left: 50%;z-index: -1;}#sk-container-id-4 div.sk-parallel-item {display: flex;flex-direction: column;z-index: 1;position: relative;background-color: white;}#sk-container-id-4 div.sk-parallel-item:first-child::after {align-self: flex-end;width: 50%;}#sk-container-id-4 div.sk-parallel-item:last-child::after {align-self: flex-start;width: 50%;}#sk-container-id-4 div.sk-parallel-item:only-child::after {width: 0;}#sk-container-id-4 div.sk-dashed-wrapped {border: 1px dashed gray;margin: 0 0.4em 0.5em 0.4em;box-sizing: border-box;padding-bottom: 0.4em;background-color: white;}#sk-container-id-4 div.sk-label label {font-family: monospace;font-weight: bold;display: inline-block;line-height: 1.2em;}#sk-container-id-4 div.sk-label-container {text-align: center;}#sk-container-id-4 div.sk-container {/* jupyter's `normalize.less` sets `[hidden] { display: none; }` but bootstrap.min.css set `[hidden] { display: none !important; }` so we also need the `!important` here to be able to override the default hidden behavior on the sphinx rendered scikit-learn.org. See: https://github.com/scikit-learn/scikit-learn/issues/21755 */display: inline-block !important;position: relative;}#sk-container-id-4 div.sk-text-repr-fallback {display: none;}</style><div id=\"sk-container-id-4\" class=\"sk-top-container\"><div class=\"sk-text-repr-fallback\"><pre>DecisionTreeClassifier(max_depth=3, min_samples_leaf=5)</pre><b>In a Jupyter environment, please rerun this cell to show the HTML representation or trust the notebook. <br />On GitHub, the HTML representation is unable to render, please try loading this page with nbviewer.org.</b></div><div class=\"sk-container\" hidden><div class=\"sk-item\"><div class=\"sk-estimator sk-toggleable\"><input class=\"sk-toggleable__control sk-hidden--visually\" id=\"sk-estimator-id-4\" type=\"checkbox\" checked><label for=\"sk-estimator-id-4\" class=\"sk-toggleable__label sk-toggleable__label-arrow\">DecisionTreeClassifier</label><div class=\"sk-toggleable__content\"><pre>DecisionTreeClassifier(max_depth=3, min_samples_leaf=5)</pre></div></div></div></div></div>"
      ],
      "text/plain": [
       "DecisionTreeClassifier(max_depth=3, min_samples_leaf=5)"
      ]
     },
     "execution_count": 34,
     "metadata": {},
     "output_type": "execute_result"
    }
   ],
   "source": [
    "# Creating the classifier object\n",
    "clf_gini = DecisionTreeClassifier(\n",
    "            criterion = \"gini\", \n",
    "            max_depth = 3, min_samples_leaf = 5) \n",
    "# Performing training \n",
    "clf_gini.fit(X_train, Y_train) "
   ]
  },
  {
   "cell_type": "code",
   "execution_count": 35,
   "id": "19c205a9-808c-4dac-b0f2-767a23c096f8",
   "metadata": {
    "tags": []
   },
   "outputs": [
    {
     "name": "stdout",
     "output_type": "stream",
     "text": [
      "['yes' 'yes' 'No' 'No' 'yes' 'yes' 'yes' 'yes' 'yes' 'No' 'yes' 'yes'\n",
      " 'yes' 'No' 'yes' 'yes' 'yes' 'yes' 'No' 'yes' 'yes' 'yes' 'No' 'yes' 'No'\n",
      " 'No' 'yes' 'yes' 'yes' 'yes' 'No' 'No' 'No' 'No' 'yes' 'No' 'yes' 'No'\n",
      " 'No' 'yes' 'yes' 'No' 'No' 'No' 'No' 'yes' 'No' 'yes' 'yes' 'No' 'No'\n",
      " 'No' 'No' 'yes' 'yes' 'No' 'yes' 'yes' 'No' 'No' 'yes' 'No' 'No' 'No'\n",
      " 'No' 'yes' 'yes' 'yes' 'yes' 'No' 'yes' 'No' 'yes' 'No' 'No' 'yes' 'No'\n",
      " 'yes' 'No' 'No' 'No' 'yes' 'No' 'No' 'yes' 'yes' 'No' 'No' 'yes' 'yes'\n",
      " 'No' 'yes' 'yes' 'yes' 'yes' 'yes' 'No' 'No' 'yes' 'yes' 'No' 'No' 'yes'\n",
      " 'yes' 'No' 'yes' 'No' 'No' 'No' 'yes' 'yes' 'yes' 'No' 'No' 'yes' 'yes'\n",
      " 'yes' 'No' 'No' 'yes' 'No' 'yes' 'No' 'yes' 'yes' 'No' 'yes' 'No' 'yes'\n",
      " 'No' 'yes' 'yes' 'No' 'No' 'No' 'yes' 'yes' 'No' 'No' 'No' 'No' 'No'\n",
      " 'yes' 'yes' 'yes' 'yes' 'No' 'No' 'yes' 'No' 'No' 'yes' 'yes' 'No' 'yes'\n",
      " 'No' 'No' 'No' 'No' 'No' 'No' 'No' 'yes' 'yes' 'No' 'No' 'No' 'No' 'No'\n",
      " 'yes' 'No' 'yes' 'yes' 'No' 'yes' 'yes' 'yes' 'yes' 'yes' 'No' 'yes' 'No'\n",
      " 'yes' 'yes' 'No' 'No' 'No' 'yes' 'No' 'yes' 'No' 'yes' 'yes' 'No' 'No'\n",
      " 'No' 'No' 'No' 'No' 'No']\n",
      "\n",
      " Total answers :  200\n"
     ]
    }
   ],
   "source": [
    "y_pred_en = clf_entropy.predict(X_test)\n",
    "print(y_pred_en)\n",
    "print(\"\\n Total answers : \", len(y_pred_en)) "
   ]
  },
  {
   "cell_type": "code",
   "execution_count": 40,
   "id": "f49a426f-1701-427c-83e8-973f2f8f25ea",
   "metadata": {
    "tags": []
   },
   "outputs": [
    {
     "name": "stdout",
     "output_type": "stream",
     "text": [
      "Accuracy is :  0.925\n"
     ]
    }
   ],
   "source": [
    "# Checking Accuracy of clf_entropy\n",
    "print(\"Accuracy is : \", accuracy_score(Y_test, y_pred_en))"
   ]
  },
  {
   "cell_type": "code",
   "execution_count": 41,
   "id": "5e720ead-3601-45e9-be0e-34403f6e7b98",
   "metadata": {
    "tags": []
   },
   "outputs": [
    {
     "name": "stdout",
     "output_type": "stream",
     "text": [
      "['yes' 'yes' 'No' 'No' 'yes' 'yes' 'yes' 'yes' 'yes' 'No' 'yes' 'yes'\n",
      " 'yes' 'No' 'yes' 'No' 'yes' 'yes' 'No' 'yes' 'yes' 'yes' 'No' 'yes' 'No'\n",
      " 'No' 'yes' 'yes' 'yes' 'yes' 'No' 'No' 'No' 'No' 'yes' 'No' 'yes' 'No'\n",
      " 'No' 'yes' 'No' 'No' 'No' 'yes' 'No' 'yes' 'No' 'yes' 'yes' 'No' 'No'\n",
      " 'No' 'No' 'yes' 'yes' 'No' 'yes' 'yes' 'No' 'No' 'yes' 'No' 'No' 'No'\n",
      " 'No' 'yes' 'yes' 'No' 'yes' 'No' 'yes' 'No' 'yes' 'No' 'No' 'yes' 'No'\n",
      " 'yes' 'No' 'No' 'No' 'yes' 'No' 'No' 'yes' 'yes' 'No' 'No' 'No' 'yes'\n",
      " 'No' 'yes' 'yes' 'yes' 'yes' 'yes' 'No' 'No' 'yes' 'yes' 'No' 'No' 'yes'\n",
      " 'yes' 'No' 'yes' 'No' 'No' 'No' 'yes' 'yes' 'yes' 'No' 'No' 'yes' 'yes'\n",
      " 'No' 'No' 'No' 'yes' 'No' 'yes' 'No' 'yes' 'yes' 'No' 'yes' 'No' 'yes'\n",
      " 'No' 'yes' 'yes' 'No' 'No' 'No' 'yes' 'yes' 'No' 'No' 'No' 'No' 'No'\n",
      " 'yes' 'yes' 'yes' 'yes' 'No' 'No' 'yes' 'No' 'No' 'yes' 'yes' 'No' 'yes'\n",
      " 'No' 'No' 'No' 'No' 'No' 'No' 'No' 'yes' 'yes' 'No' 'No' 'No' 'No' 'No'\n",
      " 'yes' 'No' 'yes' 'yes' 'No' 'yes' 'yes' 'yes' 'No' 'yes' 'No' 'yes' 'No'\n",
      " 'yes' 'yes' 'No' 'No' 'No' 'yes' 'No' 'yes' 'No' 'yes' 'yes' 'No' 'No'\n",
      " 'No' 'No' 'No' 'No' 'No']\n",
      "\n",
      " Total answers :  200\n"
     ]
    }
   ],
   "source": [
    "y_pred_en = clf_gini.predict(X_test)\n",
    "print(y_pred_en)\n",
    "print(\"\\n Total answers : \", len(y_pred_en)) "
   ]
  },
  {
   "cell_type": "code",
   "execution_count": 42,
   "id": "ae5c680f-d3d0-4ae5-880d-94f29142188a",
   "metadata": {
    "tags": []
   },
   "outputs": [
    {
     "name": "stdout",
     "output_type": "stream",
     "text": [
      "Accuracy is :  0.925\n"
     ]
    }
   ],
   "source": [
    "## Checking Accuracy of clf_gini\n",
    "print(\"Accuracy is : \", accuracy_score(Y_test, y_pred_en))"
   ]
  }
 ],
 "metadata": {
  "kernelspec": {
   "display_name": "Python 3 (ipykernel)",
   "language": "python",
   "name": "python3"
  },
  "language_info": {
   "codemirror_mode": {
    "name": "ipython",
    "version": 3
   },
   "file_extension": ".py",
   "mimetype": "text/x-python",
   "name": "python",
   "nbconvert_exporter": "python",
   "pygments_lexer": "ipython3",
   "version": "3.11.3"
  }
 },
 "nbformat": 4,
 "nbformat_minor": 5
}
